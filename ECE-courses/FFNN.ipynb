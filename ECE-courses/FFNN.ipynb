{
 "cells": [
  {
   "cell_type": "markdown",
   "metadata": {
    "pycharm": {
     "name": "#%%\n"
    }
   },
   "source": [
    "1. Implement the back propagation a FFNN with the purpose to optimize the model parameters. That is, train your model to learn how to solve the above multi-classification problem.\n",
    "2. Show that your algorithm converges by illustrating the error reduction at each iteration.\n",
    "3. What are the optimal parameter values for the hidden layer (v) and for the output layer (ω)?\n",
    "4. Show that your classifier works properly by comparing the predicted output values to the actual training output values.\n",
    "5. Test your optimized model by doing forward propagation over the following test data set:\n",
    "   (x1, x2)=(2, 2), (x1, x2)=(4, 4), and (x1, x2)=(4.5, 1.5)."
   ]
  },
  {
   "cell_type": "code",
   "execution_count": 6,
   "metadata": {},
   "outputs": [],
   "source": [
    "import numpy as np\n",
    "import matplotlib.pyplot as plt\n",
    "import pandas as pd"
   ]
  },
  {
   "cell_type": "markdown",
   "metadata": {},
   "source": [
    "#Download the data stored in the file data ffnn 3classes.txt available on the course website. This dataset consists of three columns: x1, x2 and y. Notice that this is a multi-class\n",
    "#problem (in particular 3 classes)."
   ]
  },
  {
   "cell_type": "code",
   "execution_count": 114,
   "metadata": {
    "pycharm": {
     "name": "#%%\n"
    }
   },
   "outputs": [],
   "source": [
    "\n",
    "d = pd.read_csv(r'data_ffnn_3classes.txt', sep=\" \")\n",
    "data = np.array(d)"
   ]
  },
  {
   "cell_type": "code",
   "execution_count": 115,
   "metadata": {
    "pycharm": {
     "name": "#%%\n"
    }
   },
   "outputs": [
    {
     "name": "stdout",
     "output_type": "stream",
     "text": [
      "3\n",
      "[[0. 1. 0.]\n",
      " [0. 1. 0.]\n",
      " [0. 1. 0.]\n",
      " [0. 1. 0.]\n",
      " [0. 1. 0.]\n",
      " [0. 1. 0.]\n",
      " [0. 1. 0.]\n",
      " [0. 1. 0.]\n",
      " [0. 1. 0.]\n",
      " [0. 1. 0.]\n",
      " [0. 1. 0.]\n",
      " [0. 1. 0.]\n",
      " [0. 1. 0.]\n",
      " [0. 1. 0.]\n",
      " [0. 1. 0.]\n",
      " [0. 1. 0.]\n",
      " [0. 1. 0.]\n",
      " [0. 1. 0.]\n",
      " [0. 1. 0.]\n",
      " [1. 0. 0.]\n",
      " [1. 0. 0.]\n",
      " [1. 0. 0.]\n",
      " [1. 0. 0.]\n",
      " [1. 0. 0.]\n",
      " [1. 0. 0.]\n",
      " [1. 0. 0.]\n",
      " [1. 0. 0.]\n",
      " [1. 0. 0.]\n",
      " [1. 0. 0.]\n",
      " [1. 0. 0.]\n",
      " [1. 0. 0.]\n",
      " [1. 0. 0.]\n",
      " [1. 0. 0.]\n",
      " [1. 0. 0.]\n",
      " [1. 0. 0.]\n",
      " [1. 0. 0.]\n",
      " [1. 0. 0.]\n",
      " [1. 0. 0.]\n",
      " [1. 0. 0.]\n",
      " [1. 0. 0.]\n",
      " [1. 0. 0.]\n",
      " [1. 0. 0.]\n",
      " [1. 0. 0.]\n",
      " [1. 0. 0.]\n",
      " [1. 0. 0.]\n",
      " [1. 0. 0.]\n",
      " [1. 0. 0.]\n",
      " [1. 0. 0.]\n",
      " [1. 0. 0.]\n",
      " [0. 1. 0.]\n",
      " [0. 0. 1.]\n",
      " [0. 0. 1.]\n",
      " [0. 0. 1.]\n",
      " [0. 0. 1.]\n",
      " [0. 0. 1.]\n",
      " [0. 0. 1.]\n",
      " [0. 0. 1.]\n",
      " [0. 0. 1.]\n",
      " [0. 0. 1.]\n",
      " [0. 0. 1.]\n",
      " [0. 0. 1.]\n",
      " [0. 0. 1.]\n",
      " [0. 0. 1.]\n",
      " [0. 0. 1.]\n",
      " [0. 0. 1.]\n",
      " [0. 0. 1.]\n",
      " [0. 0. 1.]\n",
      " [0. 0. 1.]\n",
      " [0. 0. 1.]\n",
      " [0. 0. 1.]]\n"
     ]
    }
   ],
   "source": [
    "X1 = []\n",
    "X2 = []\n",
    "X = []\n",
    "ytemp = []\n",
    "\n",
    "for i in range(70):\n",
    "    X1.append(data[i][0])\n",
    "    X2.append(data[i][1])\n",
    "    ytemp.append(data[i][2])\n",
    "\n",
    "x = np.vstack((X1, X2))\n",
    "x = x.T\n",
    "#y = np.reshape(y, (71, 1))\n",
    "\n",
    "\n",
    "x = np.c_[np.ones(x.shape[0]), x]\n",
    "\n",
    "print(x.shape[1])\n",
    "y=np.zeros((70, 3))\n",
    "\n",
    "for i in range(70):\n",
    "    if ytemp[i]==0:\n",
    "        y[i,0]=1\n",
    "    if ytemp[i]==1:\n",
    "        y[i,1]=1\n",
    "    if ytemp[i]==2:\n",
    "        y[i,2]=1\n",
    "\n",
    "print(y)"
   ]
  },
  {
   "cell_type": "code",
   "execution_count": 117,
   "metadata": {
    "pycharm": {
     "name": "#%%\n"
    }
   },
   "outputs": [
    {
     "name": "stdout",
     "output_type": "stream",
     "text": [
      "[[0.23000401 0.34872635 0.92743204]\n",
      " [0.27770136 0.56326829 0.05302612]\n",
      " [0.07358973 0.24593071 0.14720019]]\n",
      "[[0.92692763 0.42636543 0.83472585]\n",
      " [0.23106741 0.74449762 0.53841661]\n",
      " [0.23066705 0.37454903 0.99411752]\n",
      " [0.75805986 0.72087237 0.35203388]]\n"
     ]
    }
   ],
   "source": [
    "# random initialisation\n",
    "k_struct = 3\n",
    "outputs = 3\n",
    "\n",
    "#seed = np.random.randint(0, 1000)\n",
    "#np.random.seed(seed)    #604\n",
    "#print(seed)\n",
    "v = np.random.rand(x.shape[1], k_struct)\n",
    "print(v)\n",
    "w = np.random.rand(k_struct+1, outputs)\n",
    "print(w)"
   ]
  },
  {
   "cell_type": "code",
   "execution_count": 118,
   "metadata": {
    "pycharm": {
     "name": "#%%\n"
    }
   },
   "outputs": [],
   "source": [
    "def sigmoid(x):\n",
    "    return 1 / (1 + np.exp(-x))\n",
    "\n",
    "\n",
    "def sigmoid_deriv(x):\n",
    "    return sigmoid(x) * (1 - sigmoid(x))\n",
    "\n",
    "def sse(predict, real):\n",
    "    sum_error = np.zeros((len(y),1))\n",
    "    for i in range(len(real)):\n",
    "        for j in range(3):\n",
    "            prediction_error = ((predict[i][j] - real[i,j])**2)\n",
    "            sum_error[i] = prediction_error\n",
    "\n",
    "    #mean_error = sum_error / float(len(input))\n",
    "\n",
    "    return np.mean(sum_error)\n",
    "\n"
   ]
  },
  {
   "cell_type": "code",
   "execution_count": 119,
   "metadata": {
    "pycharm": {
     "name": "#%%\n"
    }
   },
   "outputs": [
    {
     "name": "stdout",
     "output_type": "stream",
     "text": [
      "[[ 0.07863998  0.19736232  0.77606801]\n",
      " [-2.63305504 -2.34748811 -2.85773028]\n",
      " [-0.86797519 -0.69563421 -0.79436473]]\n",
      "[[-0.22442938 -0.81599972 -0.78655257]\n",
      " [ 0.19902542  0.6885291   0.49749025]\n",
      " [ 0.16829521  0.27545109  0.91796601]\n",
      " [ 0.7288744   0.65660464  0.29708089]]\n"
     ]
    }
   ],
   "source": [
    "iteration = 3000\n",
    "learningRate=0.001\n",
    "\n",
    "error_tab = []\n",
    "error1 = []\n",
    "for epoch in range(iteration):\n",
    "\n",
    "    ##################### Forward feed ####################\n",
    "    #z = {}                      ###hidden layer activaiton\n",
    "    xbb = x.dot(v)   #X bar bar\n",
    "    f = sigmoid(xbb)\n",
    "    fb = np.c_[np.ones(f.shape[0]), f] #ajout bias\n",
    "                                ###output layer\n",
    "    fbb = fb.dot(w)   #z -> f bar bar\n",
    "    g = sigmoid(fbb)\n",
    "    out_layer = sigmoid_deriv(g)\n",
    "    #################### Backward feed ####################\n",
    "    error = g - y\n",
    "    error_tab.append(sse(g,y))\n",
    "\n",
    "    #mise a jour hidden -> out\n",
    "    hidden_layer = sigmoid_deriv(fbb)\n",
    "    delta_output = error*out_layer\n",
    "\n",
    "    #mise a jour input -> hidden\n",
    "    error_hidden = delta_output.dot(w.T)\n",
    "\n",
    "    out_layer = sigmoid_deriv(g)\n",
    "    delta_hidden =  error_hidden * hidden_layer[:,:1]\n",
    "\n",
    "    #update des weights\n",
    "    w = w - fb.T.dot(delta_output * hidden_layer)*learningRate\n",
    "    v = v - x.T.dot(delta_hidden[:,:1])*learningRate\n",
    "\n",
    "\n",
    "print(v)\n",
    "print(w)"
   ]
  },
  {
   "cell_type": "code",
   "execution_count": 120,
   "metadata": {
    "pycharm": {
     "name": "#%%\n"
    }
   },
   "outputs": [
    {
     "data": {
      "image/png": "[encoded data removed]",
      "text/plain": [
       "<Figure size 432x288 with 1 Axes>"
      ]
     },
     "metadata": {
      "needs_background": "light"
     },
     "output_type": "display_data"
    }
   ],
   "source": [
    "plt.plot(error_tab, c='r', label='sse2', linestyle='-')\n",
    "plt.show()"
   ]
  },
  {
   "cell_type": "code",
   "execution_count": 121,
   "metadata": {
    "pycharm": {
     "name": "#%%\n"
    }
   },
   "outputs": [
    {
     "name": "stdout",
     "output_type": "stream",
     "text": [
      "[1 1 1 1 1 1 1 1 1 1 1 1 1 1 1 1 1 1 1 1 1 1 1 1 1 1 1 1 1 1 1 1 1 1 1 1 1\n",
      " 1 1 1 1 1 1 1 1 1 1 1 1 2 1 1 1 1 1 1 1 1 1 1 1 1 1 1 1 1 1 1 1 1]\n"
     ]
    }
   ],
   "source": [
    "Gx = xbb.argmax(axis=1)\n",
    "print(Gx)"
   ]
  },
  {
   "cell_type": "code",
   "execution_count": 122,
   "metadata": {
    "pycharm": {
     "name": "#%%\n"
    }
   },
   "outputs": [
    {
     "name": "stdout",
     "output_type": "stream",
     "text": [
      "[[2.  2. ]\n",
      " [4.  4. ]\n",
      " [4.5 1.5]]\n",
      "[1 1 1]\n"
     ]
    }
   ],
   "source": [
    "X_test = np.array([[2,2],[4,4],[4.5,1.5]])\n",
    "print(X_test)\n",
    "xb =  np.c_[np.ones(X_test.shape[0]), X_test]\n",
    "xbb = xb.dot(v)\n",
    "f = sigmoid(xbb)\n",
    "fb = np.c_[np.ones(f.shape[0]), f] #ajout bias\n",
    "                            ###output layer\n",
    "z = fb.dot(w)\n",
    "g = sigmoid(z)\n",
    "\n",
    "Gx = xbb.argmax(axis=1)\n",
    "print(Gx)"
   ]
  },
  {
   "cell_type": "code",
   "execution_count": null,
   "metadata": {
    "pycharm": {
     "name": "#%%\n"
    }
   },
   "outputs": [],
   "source": []
  }
 ],
 "metadata": {
  "kernelspec": {
   "display_name": "Python 3",
   "language": "python",
   "name": "python3"
  },
  "language_info": {
   "codemirror_mode": {
    "name": "ipython",
    "version": 3
   },
   "file_extension": ".py",
   "mimetype": "text/x-python",
   "name": "python",
   "nbconvert_exporter": "python",
   "pygments_lexer": "ipython3",
   "version": "3.8.5"
  }
 },
 "nbformat": 4,
 "nbformat_minor": 1
}
